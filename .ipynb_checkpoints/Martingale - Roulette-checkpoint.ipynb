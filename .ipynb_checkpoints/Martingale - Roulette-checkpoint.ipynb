{
 "cells": [
  {
   "cell_type": "markdown",
   "metadata": {},
   "source": [
    "## Simulations on a Roulette Wheel\n",
    "\n",
    "\n",
    "|Bets|Payout|Probability|\n",
    "|----|------|-----------|\n",
    "|Odd|1:1|48.6%|\n",
    "|Even|1:1|48.6%|\n",
    "|Black|1:1|48.6%|\n",
    "|Red|1:1|48.6%|\n",
    "|1-18|1:1|48.6%|\n",
    "|19-36|1:1|48.6%|"
   ]
  },
  {
   "cell_type": "code",
   "execution_count": 1,
   "metadata": {},
   "outputs": [
    {
     "name": "stdout",
     "output_type": "stream",
     "text": [
      "1795\n"
     ]
    }
   ],
   "source": [
    "import random\n",
    "\n",
    "bankroll = 100\n",
    "stake = 1\n",
    "count = 0\n",
    "while bankroll>0:\n",
    "    if random.uniform(0,1)<= .486:\n",
    "        bankroll += stake\n",
    "        stake = 1\n",
    "    else:\n",
    "        bankroll -= stake\n",
    "        stake = 2*stake\n",
    "    count +=1 \n",
    "\n",
    "print(count) "
   ]
  },
  {
   "cell_type": "code",
   "execution_count": 2,
   "metadata": {},
   "outputs": [
    {
     "name": "stdout",
     "output_type": "stream",
     "text": [
      "19\n",
      "57\n",
      "344\n",
      "2719\n",
      "2076\n",
      "244624\n",
      "98627537\n"
     ]
    }
   ],
   "source": [
    "br = [10,100,1000,10000,10000,1000000,1000000000]\n",
    "\n",
    "def gamble(money, probability, stk):\n",
    "    stake = stk\n",
    "    count = 0\n",
    "    br = money\n",
    "    while money>0:\n",
    "        if random.uniform(0,1)<= probability:\n",
    "            br += stake\n",
    "            stake = 1\n",
    "        else:\n",
    "            money -= stake\n",
    "            stake = 2*stake\n",
    "        count +=1 \n",
    "    print(count)\n",
    "    \n",
    "for i in br:\n",
    "    gamble(i, .486, 1)"
   ]
  },
  {
   "cell_type": "markdown",
   "metadata": {},
   "source": [
    "## Conclusions\n",
    "\n",
    "No matter how much money you throw at this strategy you always lose. \n",
    "\n",
    "|Starting Amount|Cycles Untill Broke|\n",
    "|-------|-------:|\n",
    "|10|19|\n",
    "|100|57|\n",
    "|1,000|344|\n",
    "|10,000|2,719|\n",
    "|100,000|2,076|\n",
    "|1,000,000|244,624|\n",
    "|1,000,000,000|98,627,537|"
   ]
  },
  {
   "cell_type": "code",
   "execution_count": null,
   "metadata": {},
   "outputs": [],
   "source": []
  }
 ],
 "metadata": {
  "kernelspec": {
   "display_name": "Python 3",
   "language": "python",
   "name": "python3"
  },
  "language_info": {
   "codemirror_mode": {
    "name": "ipython",
    "version": 3
   },
   "file_extension": ".py",
   "mimetype": "text/x-python",
   "name": "python",
   "nbconvert_exporter": "python",
   "pygments_lexer": "ipython3",
   "version": "3.6.7"
  }
 },
 "nbformat": 4,
 "nbformat_minor": 2
}
